{
 "cells": [
  {
   "cell_type": "code",
   "execution_count": null,
   "metadata": {},
   "outputs": [],
   "source": [
    "import asyncio\n",
    "import aiohttp\n",
    "import lxml.html\n",
    "import async_timeout\n",
    "\n",
    "async def fetch(session, url):\n",
    "    with async_timeout.timeout(50):\n",
    "        async with session.get(url) as response:\n",
    "            text = await response.text()\n",
    "            return lxml.html.fromstring(text).xpath('//title/text()')\n",
    "\n",
    "async def main():\n",
    "    async with aiohttp.ClientSession() as session:        \n",
    "        tasks = [fetch(session, url) for\n",
    "                 url in ['http://fontanka.ru', 'http://lenta.ru', 'http://gazeta.ru']]\n",
    "        for f in asyncio.as_completed(tasks):\n",
    "            text = await f\n",
    "            print(text[:20])\n",
    "        \n",
    "        \n",
    "\n",
    "loop = asyncio.get_event_loop()\n",
    "loop.run_until_complete(main())"
   ]
  }
 ],
 "metadata": {
  "kernelspec": {
   "display_name": "Python 3",
   "language": "python",
   "name": "python3"
  },
  "language_info": {
   "codemirror_mode": {
    "name": "ipython",
    "version": 3
   },
   "file_extension": ".py",
   "mimetype": "text/x-python",
   "name": "python",
   "nbconvert_exporter": "python",
   "pygments_lexer": "ipython3",
   "version": "3.6.4"
  }
 },
 "nbformat": 4,
 "nbformat_minor": 2
}
